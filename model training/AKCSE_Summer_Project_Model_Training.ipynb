{
  "cells": [
    {
      "cell_type": "markdown",
      "metadata": {
        "colab_type": "text",
        "id": "view-in-github"
      },
      "source": [
        "<a href=\"https://colab.research.google.com/github/TaewonHwang02/Akcse_project2024/blob/Model-Insertion/AKCSE_Summer_Project_Model_Training.ipynb\" target=\"_parent\"><img src=\"https://colab.research.google.com/assets/colab-badge.svg\" alt=\"Open In Colab\"/></a>"
      ]
    },
    {
      "cell_type": "markdown",
      "metadata": {
        "id": "ADDKzdzRVtwk"
      },
      "source": [
        "#ED Trigger Detection Model\n",
        "The objective of this training is to obtain the most accurate ML model capable of detecting ED (Specific or not) triggers from titles and transcripts of Youtube Videos.\n",
        "\n",
        "The experiment consists of manipulating vrious preprocessing methods, finetuning parameters and of exploring different types of models, which will result in the most accurate model for use.\n",
        "\n",
        "The models that we selected are Naive Bayes and Logistic Regression (for now).\n",
        "\n",
        "The dataset was scraped from various Youtube videos, the resulting text transformed to a csv file with columns for title, transcript and \"trigger level\". This trigger level is a binary classifier that determines if a text is capable of triggering the ED in question (i.e., 0 for \"no trigger\" and 1 for \"trigger\").\n",
        "\n",
        "\n"
      ]
    },
    {
      "cell_type": "code",
      "execution_count": 1,
      "metadata": {
        "id": "CCXg4R80v2ll"
      },
      "outputs": [],
      "source": [
        "import pandas as pd\n",
        "import numpy as np\n",
        "import os\n",
        "import nltk\n",
        "import csv\n",
        "import re\n",
        "from nltk.corpus import stopwords\n",
        "from nltk.stem.porter import PorterStemmer\n",
        "from nltk.stem import WordNetLemmatizer\n",
        "import pickle\n",
        "from sklearn.model_selection import train_test_split, GridSearchCV\n",
        "from sklearn.feature_extraction.text import CountVectorizer\n",
        "from sklearn.naive_bayes import GaussianNB, MultinomialNB\n",
        "from sklearn.linear_model import LogisticRegression\n",
        "from sklearn.metrics import accuracy_score, classification_report, confusion_matrix\n",
        "import matplotlib.pyplot as plt\n",
        "from sklearn.feature_extraction.text import TfidfVectorizer"
      ]
    },
    {
      "cell_type": "code",
      "execution_count": 2,
      "metadata": {
        "colab": {
          "base_uri": "https://localhost:8080/"
        },
        "id": "DtS7Uk7Xv6GJ",
        "outputId": "7c361f70-acbe-446c-bdce-f6f875e42cac"
      },
      "outputs": [
        {
          "name": "stderr",
          "output_type": "stream",
          "text": [
            "[nltk_data] Downloading package punkt to\n",
            "[nltk_data]     C:\\Users\\14383\\AppData\\Roaming\\nltk_data...\n",
            "[nltk_data]   Unzipping tokenizers\\punkt.zip.\n",
            "[nltk_data] Downloading package stopwords to\n",
            "[nltk_data]     C:\\Users\\14383\\AppData\\Roaming\\nltk_data...\n",
            "[nltk_data]   Unzipping corpora\\stopwords.zip.\n",
            "[nltk_data] Downloading package wordnet to\n",
            "[nltk_data]     C:\\Users\\14383\\AppData\\Roaming\\nltk_data...\n"
          ]
        },
        {
          "data": {
            "text/plain": [
              "True"
            ]
          },
          "execution_count": 2,
          "metadata": {},
          "output_type": "execute_result"
        }
      ],
      "source": [
        "nltk.download('punkt')\n",
        "nltk.download('stopwords')\n",
        "nltk.download('wordnet')"
      ]
    },
    {
      "cell_type": "markdown",
      "metadata": {
        "id": "b9GkHKaiotTX"
      },
      "source": [
        "# Transforming Webscraping Output to Desired Format\n",
        "\n",
        "---\n",
        "\n",
        "\n",
        "Although rather irrelevant to the actual code that trains the model, we will be applying our model in a Chrome extension that scrapes YouTube video titles and transcript.\n",
        "\n",
        "This information provides us with the type of data we will be dealing with as input to the created model, thus allowing us to train our binary classifier more relevant to its actual use."
      ]
    },
    {
      "cell_type": "code",
      "execution_count": 2,
      "metadata": {
        "id": "9vkgqznwo0fl"
      },
      "outputs": [],
      "source": []
    },
    {
      "cell_type": "markdown",
      "metadata": {
        "id": "S_4UGEQ0o7vF"
      },
      "source": [
        "#Dataset\n",
        "\n",
        "---\n",
        "\n",
        "\n",
        "We will be training our model with 200 lines of titles and transcript, obtained from webscraping on YouTube.\n",
        "All lines have been extracted from our webscraping code, representing its actual use inside of the Chrome extension."
      ]
    },
    {
      "cell_type": "code",
      "execution_count": 3,
      "metadata": {
        "colab": {
          "base_uri": "https://localhost:8080/"
        },
        "id": "gFXYP0tBRLeI",
        "outputId": "a4a8f40b-d071-4974-b88b-9f4f7a8333ac"
      },
      "outputs": [
        {
          "name": "stdout",
          "output_type": "stream",
          "text": [
            "CSV file 'all_content.csv' created successfully!\n",
            "                                             content  trigger level\n",
            "0                  WIEIAD Obese *Unhealthy* Part 4\\n              1\n",
            "1  [Music] what I eat in a day what I eat in a da...              1\n",
            "2  WHAT I EAT IN A DAY AS A FAT PERSON - CALORIE ...              1\n",
            "3  [Music] what e a fat [\\xa0__\\xa0] who very con...              1\n",
            "4             TikToks That Will Make You Jealous 2\\n              1\n"
          ]
        }
      ],
      "source": [
        "# Read the content of \"Triggers.txt\"\n",
        "with open(\"Triggers.txt\", \"r\", encoding=\"utf-8\") as trigger_file:\n",
        "    trigger_content = trigger_file.readlines()\n",
        "\n",
        "# Read the content of \"Normal.txt\"\n",
        "with open(\"Normal.txt\", \"r\", encoding=\"utf-8\") as notrigger_file:\n",
        "    notrigger_content = notrigger_file.readlines()\n",
        "\n",
        "# Create DataFrames for trigger and non-trigger data\n",
        "trigger_df = pd.DataFrame({'content': trigger_content, 'trigger level': 1})\n",
        "notrigger_df = pd.DataFrame({'content': notrigger_content, 'trigger level': 0})\n",
        "\n",
        "# Concatenate the DataFrames\n",
        "df = pd.concat([trigger_df, notrigger_df], ignore_index=True)\n",
        "\n",
        "# Save the DataFrame to a CSV file\n",
        "df.to_csv('all_content.csv', index=False)\n",
        "\n",
        "print(\"CSV file 'all_content.csv' created successfully!\")\n",
        "\n",
        "print(df.head())\n"
      ]
    },
    {
      "cell_type": "markdown",
      "metadata": {
        "id": "rsksjV6Oo7IP"
      },
      "source": [
        "#Preprocessing Functions"
      ]
    },
    {
      "cell_type": "markdown",
      "metadata": {
        "id": "9q_VaEbzRf3I"
      },
      "source": [
        "Lemmatization\n"
      ]
    },
    {
      "cell_type": "code",
      "execution_count": 4,
      "metadata": {
        "id": "bY6nb7kTwBet"
      },
      "outputs": [],
      "source": [
        "def lemmatize(content):\n",
        "  # Initialize lemmatizer\n",
        "  lemmatizer = WordNetLemmatizer()\n",
        "  # Tokenize text (useful for preprocessing)\n",
        "  con = content.split()\n",
        "  #lemmatize text\n",
        "  con_lemma = [lemmatizer.lemmatize(token) for token in con]\n",
        "  con_lemma = ' '.join(con)\n",
        "  return con_lemma"
      ]
    },
    {
      "cell_type": "markdown",
      "metadata": {
        "id": "fTeUyqJBRnNp"
      },
      "source": [
        "Word stemming"
      ]
    },
    {
      "cell_type": "code",
      "execution_count": 5,
      "metadata": {
        "id": "BtCxmWbJwBQ6"
      },
      "outputs": [],
      "source": [
        "def wordStem(content):\n",
        "  # Initialize Stemmer\n",
        "  stemmer = PorterStemmer()\n",
        "  # Tokenize text (useful for preprocessing)\n",
        "  con = content.split()\n",
        "  # Use the Stemmer\n",
        "  con_stem = [stemmer.stem(token) for token in con]\n",
        "  con_stem = ' '.join(con)\n",
        "  return con_stem"
      ]
    },
    {
      "cell_type": "markdown",
      "metadata": {
        "id": "vx0Evh6JRpN5"
      },
      "source": [
        "Stopword Removal"
      ]
    },
    {
      "cell_type": "code",
      "execution_count": 23,
      "metadata": {
        "id": "WlIeATInQDz6"
      },
      "outputs": [],
      "source": [
        "def removeStopWord(content):\n",
        "  # get english stopwords\n",
        "  stop_words = set(stopwords.words('english'))\n",
        "  # Tokenize text (useful for preprocessing)\n",
        "  con = content.split()\n",
        "  # Remove stopwords\n",
        "  con_stop = [token for token in con if token.lower() not in stop_words]\n",
        "\n",
        "  con_stop = ' '.join(con)\n",
        "  return con_stop.lower()"
      ]
    },
    {
      "cell_type": "markdown",
      "metadata": {
        "id": "O7aM_kpIZ9rr"
      },
      "source": [
        "# Training the Model\n",
        "\n",
        "---\n",
        "\n",
        "\n",
        "\n",
        "For all models, we will manipulate the above preprocessing methods,and finetune the parameters to get the most accurate model for our application."
      ]
    },
    {
      "cell_type": "markdown",
      "metadata": {
        "id": "UDk-CZ7kpyOL"
      },
      "source": [
        "## Preparing the Dataset"
      ]
    },
    {
      "cell_type": "markdown",
      "metadata": {
        "id": "A8eIZEZ-a7cT"
      },
      "source": [
        "### Preprocessing"
      ]
    },
    {
      "cell_type": "code",
      "execution_count": 24,
      "metadata": {
        "id": "e_roaHjInxJy"
      },
      "outputs": [],
      "source": [
        "# No preprocessing\n",
        "x = df['content']\n",
        "y = df['trigger level']\n",
        "\n",
        "# lemmatization\n",
        "df['lemma'] = df['content'].apply(lemmatize)\n",
        "x_lemma = df['lemma']\n",
        "\n",
        "# Word Stemming\n",
        "df['word stem'] = df['content'].apply(wordStem)\n",
        "x_stem = df['word stem']\n",
        "\n",
        "# Stop Word Removal\n",
        "df['stop word'] = df['content'].apply(removeStopWord)\n",
        "x_stopword = df['stop word']"
      ]
    },
    {
      "cell_type": "code",
      "execution_count": 25,
      "metadata": {
        "colab": {
          "base_uri": "https://localhost:8080/"
        },
        "id": "h9tL6GnxCm9r",
        "outputId": "3a9f4b10-a245-4e61-a4b2-a4073c4e1024"
      },
      "outputs": [
        {
          "name": "stdout",
          "output_type": "stream",
          "text": [
            "                                             content  trigger level  \\\n",
            "0                  WIEIAD Obese *Unhealthy* Part 4\\n              1   \n",
            "1  [Music] what I eat in a day what I eat in a da...              1   \n",
            "2  WHAT I EAT IN A DAY AS A FAT PERSON - CALORIE ...              1   \n",
            "3  [Music] what e a fat [\\xa0__\\xa0] who very con...              1   \n",
            "4             TikToks That Will Make You Jealous 2\\n              1   \n",
            "\n",
            "                                               lemma  \\\n",
            "0                    WIEIAD Obese *Unhealthy* Part 4   \n",
            "1  [Music] what I eat in a day what I eat in a da...   \n",
            "2  WHAT I EAT IN A DAY AS A FAT PERSON - CALORIE ...   \n",
            "3  [Music] what e a fat [\\xa0__\\xa0] who very con...   \n",
            "4               TikToks That Will Make You Jealous 2   \n",
            "\n",
            "                                           word stem  \\\n",
            "0                    WIEIAD Obese *Unhealthy* Part 4   \n",
            "1  [Music] what I eat in a day what I eat in a da...   \n",
            "2  WHAT I EAT IN A DAY AS A FAT PERSON - CALORIE ...   \n",
            "3  [Music] what e a fat [\\xa0__\\xa0] who very con...   \n",
            "4               TikToks That Will Make You Jealous 2   \n",
            "\n",
            "                                           stop word  \n",
            "0                    wieiad obese *unhealthy* part 4  \n",
            "1  [music] what i eat in a day what i eat in a da...  \n",
            "2  what i eat in a day as a fat person - calorie ...  \n",
            "3  [music] what e a fat [\\xa0__\\xa0] who very con...  \n",
            "4               tiktoks that will make you jealous 2  \n"
          ]
        }
      ],
      "source": [
        "print(df.head())"
      ]
    },
    {
      "cell_type": "markdown",
      "metadata": {
        "id": "PGfuMdmntvGN"
      },
      "source": [
        "Split dataset into training and testing sets"
      ]
    },
    {
      "cell_type": "code",
      "execution_count": 26,
      "metadata": {
        "id": "8h9tC4HQWD4R"
      },
      "outputs": [],
      "source": [
        "vect = TfidfVectorizer()\n",
        "\n",
        "# No preprocessing\n",
        "x_train , x_test , y_train, y_test = train_test_split(x, y, test_size=0.20)\n",
        "\n",
        "x_train=vect.fit_transform(x_train)\n",
        "x_test=vect.transform(x_test)\n",
        "\n",
        "# Lemmatization\n",
        "x_lemma_train , x_lemma_test , y_train, y_test = train_test_split(x_lemma, y, test_size=0.20)\n",
        "\n",
        "x_lemma_train=vect.fit_transform(x_lemma_train)\n",
        "x_lemma_test=vect.transform(x_lemma_test)\n",
        "\n",
        "# Word Stemming\n",
        "x_stem_train , x_stem_test , y_train, y_test = train_test_split(x_stem, y, test_size=0.20)\n",
        "\n",
        "x_stem_train=vect.fit_transform(x_stem_train)\n",
        "x_stem_test=vect.transform(x_stem_test)\n",
        "\n",
        "# Stop Word Removal\n",
        "x_stopword_train , x_stopword_test , y_train, y_test = train_test_split(x_stopword, y, test_size=0.20)\n",
        "\n",
        "x_stopword_train=vect.fit_transform(x_stopword_train)\n",
        "x_stopword_test=vect.transform(x_stopword_test)\n",
        "\n"
      ]
    },
    {
      "cell_type": "markdown",
      "metadata": {
        "id": "yZ3ZL6gIqoAY"
      },
      "source": [
        "##Naive Bayes"
      ]
    },
    {
      "cell_type": "code",
      "execution_count": 27,
      "metadata": {
        "colab": {
          "base_uri": "https://localhost:8080/"
        },
        "id": "SJ2D9cyR8xN7",
        "outputId": "869e55cc-c78d-4cbc-e316-4e224d96420b"
      },
      "outputs": [
        {
          "name": "stdout",
          "output_type": "stream",
          "text": [
            "Naive Bayes No Preprocessing Accuracy: 0.5\n",
            "Naive Bayes No Preprocessing Report:               precision    recall  f1-score   support\n",
            "\n",
            "           0       0.29      1.00      0.44         2\n",
            "           1       1.00      0.38      0.55         8\n",
            "\n",
            "    accuracy                           0.50        10\n",
            "   macro avg       0.64      0.69      0.49        10\n",
            "weighted avg       0.86      0.50      0.53        10\n",
            "\n",
            "Naive Bayes Lemmatization Accuracy: 0.7\n",
            "Naive Bayes Word Stem Accuracy: 0.7\n",
            "Naive Bayes Stop Word Removal Accuracy: 0.9\n"
          ]
        }
      ],
      "source": [
        "# No Preprocessing\n",
        "# Instance of NB\n",
        "nb_model = GaussianNB()\n",
        "\n",
        "# Train the model\n",
        "nb_model.fit(x_train.toarray(), y_train)\n",
        "# Make predictions\n",
        "nb_predictions = nb_model.predict(x_test.toarray())\n",
        "# Evaluate the model\n",
        "nb_accuracy = accuracy_score(y_test, nb_predictions)\n",
        "nb_report = classification_report(y_test, nb_predictions)\n",
        "nb_confusion = confusion_matrix(y_test, nb_predictions)\n",
        "\n",
        "print(\"Naive Bayes No Preprocessing Accuracy:\", nb_accuracy)\n",
        "print(\"Naive Bayes No Preprocessing Report:\", nb_report)\n",
        "\n",
        "\n",
        "# Lemmatization\n",
        "# Instance of NB\n",
        "nb_lemma_model = GaussianNB()\n",
        "\n",
        "# Train the model\n",
        "nb_lemma_model.fit(x_lemma_train.toarray(), y_train)\n",
        "# Make predictions\n",
        "nb_lemma_predictions = nb_lemma_model.predict(x_lemma_test.toarray())\n",
        "# Evaluate the model\n",
        "nb_lemma_accuracy = accuracy_score(y_test, nb_lemma_predictions)\n",
        "\n",
        "print(\"Naive Bayes Lemmatization Accuracy:\", nb_lemma_accuracy)\n",
        "\n",
        "\n",
        "# Word Stemming\n",
        "# Instance of NB\n",
        "nb_stem_model = GaussianNB()\n",
        "\n",
        "# Train the model\n",
        "nb_stem_model.fit(x_stem_train.toarray(), y_train)\n",
        "# Make predictions\n",
        "nb_stem_predictions = nb_stem_model.predict(x_stem_test.toarray())\n",
        "# Evaluate the model\n",
        "nb_stem_accuracy = accuracy_score(y_test, nb_stem_predictions)\n",
        "\n",
        "print(\"Naive Bayes Word Stem Accuracy:\", nb_stem_accuracy)\n",
        "\n",
        "\n",
        "# Stop Word Removal\n",
        "# Instance of NB\n",
        "nb_stopword_model = GaussianNB()\n",
        "\n",
        "# Train the model\n",
        "nb_stopword_model.fit(x_stopword_train.toarray(), y_train)\n",
        "# Make predictions\n",
        "nb_stopword_predictions = nb_stopword_model.predict(x_stopword_test.toarray())\n",
        "# Evaluate the model\n",
        "nb_stopword_accuracy = accuracy_score(y_test, nb_stopword_predictions)\n",
        "\n",
        "print(\"Naive Bayes Stop Word Removal Accuracy:\", nb_stopword_accuracy)"
      ]
    },
    {
      "cell_type": "markdown",
      "metadata": {
        "id": "NKVqnNf_soZs"
      },
      "source": [
        "### Finetuning\n",
        "For a Gaussian Naive Bayes model, we will be using a grid search to explore the effects of smoothing variables on the overall performance."
      ]
    },
    {
      "cell_type": "code",
      "execution_count": 28,
      "metadata": {
        "colab": {
          "base_uri": "https://localhost:8080/"
        },
        "id": "WBqdq7SGsqd5",
        "outputId": "c411e90c-6eb2-4c64-8dec-4e674b81c7d8"
      },
      "outputs": [
        {
          "name": "stdout",
          "output_type": "stream",
          "text": [
            "Gaussian Naive Bayes Model Accuracy: 0.5\n",
            "\n",
            "Classification Report:\n",
            "               precision    recall  f1-score   support\n",
            "\n",
            "           0       0.29      1.00      0.44         2\n",
            "           1       1.00      0.38      0.55         8\n",
            "\n",
            "    accuracy                           0.50        10\n",
            "   macro avg       0.64      0.69      0.49        10\n",
            "weighted avg       0.86      0.50      0.53        10\n",
            "\n",
            "Lemma Accuracy: 0.7\n",
            "Lemma Classification Report:               precision    recall  f1-score   support\n",
            "\n",
            "           0       0.33      0.50      0.40         2\n",
            "           1       0.86      0.75      0.80         8\n",
            "\n",
            "    accuracy                           0.70        10\n",
            "   macro avg       0.60      0.62      0.60        10\n",
            "weighted avg       0.75      0.70      0.72        10\n",
            "\n",
            "Word Stem Accuracy: 0.7\n",
            "Word Stem Classification Report:               precision    recall  f1-score   support\n",
            "\n",
            "           0       0.33      0.50      0.40         2\n",
            "           1       0.86      0.75      0.80         8\n",
            "\n",
            "    accuracy                           0.70        10\n",
            "   macro avg       0.60      0.62      0.60        10\n",
            "weighted avg       0.75      0.70      0.72        10\n",
            "\n",
            "Stop Word Accuracy: 0.9\n",
            "Stop Word Classification Report:               precision    recall  f1-score   support\n",
            "\n",
            "           0       1.00      0.50      0.67         2\n",
            "           1       0.89      1.00      0.94         8\n",
            "\n",
            "    accuracy                           0.90        10\n",
            "   macro avg       0.94      0.75      0.80        10\n",
            "weighted avg       0.91      0.90      0.89        10\n",
            "\n"
          ]
        }
      ],
      "source": [
        "# No preprocessing\n",
        "# Define the hyperparameters to tune\n",
        "param_grid = {'var_smoothing': [1e-9, 1e-8, 1e-7, 1e-6, 1e-5]}\n",
        "\n",
        "# Use GridSearchCV to find the best hyperparameters\n",
        "grid_search = GridSearchCV(nb_model, param_grid, cv=5, scoring='accuracy')\n",
        "grid_search.fit(x_train.toarray(), y_train)\n",
        "\n",
        "# Get the best model from grid search\n",
        "finetune_best = grid_search.best_estimator_\n",
        "\n",
        "# Make predictions using the best model\n",
        "predictions = finetune_best.predict(x_test.toarray())\n",
        "\n",
        "# Evaluate the model\n",
        "finetune_accuracy = accuracy_score(y_test, predictions)\n",
        "finetune_report = classification_report(y_test, predictions)\n",
        "\n",
        "# Display results\n",
        "print(\"Gaussian Naive Bayes Model Accuracy:\", finetune_accuracy)\n",
        "print(\"\\nClassification Report:\\n\", finetune_report)\n",
        "\n",
        "\n",
        "# Lemmatization\n",
        "grid_search = GridSearchCV(nb_lemma_model, param_grid, cv=5, scoring='accuracy')\n",
        "grid_search.fit(x_lemma_train.toarray(), y_train)\n",
        "\n",
        "finetune_lemma_best = grid_search.best_estimator_\n",
        "predictions_lemma = finetune_lemma_best.predict(x_lemma_test.toarray())\n",
        "\n",
        "# Evaluate the model\n",
        "finetune_lemma_accuracy = accuracy_score(y_test, predictions_lemma)\n",
        "finetune_lemma_report = classification_report(y_test, predictions_lemma)\n",
        "\n",
        "# Display results\n",
        "print(\"Lemma Accuracy:\", finetune_lemma_accuracy)\n",
        "print(\"Lemma Classification Report:\", finetune_lemma_report)\n",
        "\n",
        "\n",
        "\n",
        "# Word Stemming\n",
        "grid_search = GridSearchCV(nb_stem_model, param_grid, cv=5, scoring='accuracy')\n",
        "grid_search.fit(x_stem_train.toarray(), y_train)\n",
        "\n",
        "finetune_stem_best = grid_search.best_estimator_\n",
        "predictions_stem = finetune_stem_best.predict(x_stem_test.toarray())\n",
        "\n",
        "# Evaluate the model\n",
        "finetune_stem_accuracy = accuracy_score(y_test, predictions_stem)\n",
        "finetune_stem_report = classification_report(y_test, predictions_stem)\n",
        "\n",
        "# Display results\n",
        "print(\"Word Stem Accuracy:\", finetune_stem_accuracy)\n",
        "print(\"Word Stem Classification Report:\", finetune_stem_report)\n",
        "\n",
        "\n",
        "\n",
        "# Stop Word Removal\n",
        "grid_search = GridSearchCV(nb_stopword_model, param_grid, cv=5, scoring='accuracy')\n",
        "grid_search.fit(x_stopword_train.toarray(), y_train)\n",
        "\n",
        "finetune_stopword_best = grid_search.best_estimator_\n",
        "predictions_stopword = finetune_stopword_best.predict(x_stopword_test.toarray())\n",
        "\n",
        "# Evaluate the model\n",
        "finetune_stopword_accuracy = accuracy_score(y_test, predictions_stopword)\n",
        "finetune_stopword_report = classification_report(y_test, predictions_stopword)\n",
        "\n",
        "# Display results\n",
        "print(\"Stop Word Accuracy:\", finetune_stopword_accuracy)\n",
        "print(\"Stop Word Classification Report:\", finetune_stopword_report)\n"
      ]
    },
    {
      "cell_type": "markdown",
      "metadata": {
        "id": "hpi1TMrolfi3"
      },
      "source": [
        "### Visualization"
      ]
    },
    {
      "cell_type": "code",
      "execution_count": 29,
      "metadata": {
        "colab": {
          "base_uri": "https://localhost:8080/",
          "height": 339
        },
        "id": "My_x0bA_lfLb",
        "outputId": "17dbabb3-7996-4a3b-df9b-76bb85545a8c"
      },
      "outputs": [
        {
          "data": {
            "image/png": "[encoded data removed]",
            "text/plain": [
              "<Figure size 900x400 with 1 Axes>"
            ]
          },
          "metadata": {},
          "output_type": "display_data"
        }
      ],
      "source": [
        "Categories = ['No Preprocessing', 'Lemmatization', 'Word Stemming', 'Stop Word Removal']\n",
        "no_finetune = [nb_accuracy, nb_lemma_accuracy, nb_stem_accuracy, nb_stopword_accuracy]\n",
        "finetuning = [finetune_accuracy, finetune_lemma_accuracy, finetune_stem_accuracy, finetune_stopword_accuracy]\n",
        "\n",
        "bar_width = 0.35\n",
        "index = np.arange(len(Categories))\n",
        "\n",
        "plt.figure(figsize=(9, 4))\n",
        "plt.bar(index, no_finetune, bar_width, label='No Finetuning', color='skyblue')\n",
        "plt.bar(index + bar_width, finetuning, bar_width, label='Finetuning')\n",
        "\n",
        "plt.xlabel('Preprocessing Methods')\n",
        "plt.ylabel('Model Performance Accuracy')\n",
        "plt.title('Naive Bayes Accuracy Comparison (Preprocessing & Finetuning)')\n",
        "plt.xticks(index + bar_width / 2, Categories)\n",
        "plt.legend()\n",
        "plt.show()"
      ]
    },
    {
      "cell_type": "markdown",
      "metadata": {
        "id": "OJqRYIx8o6zI"
      },
      "source": [
        "##Logistic Regression"
      ]
    },
    {
      "cell_type": "code",
      "execution_count": 30,
      "metadata": {
        "colab": {
          "base_uri": "https://localhost:8080/"
        },
        "id": "EJ6iv34t8xyj",
        "outputId": "ba87abd8-3b03-489e-eb5e-8b1674d90e3e"
      },
      "outputs": [
        {
          "name": "stdout",
          "output_type": "stream",
          "text": [
            "Logistic Regression Accuracy: 0.6\n",
            "Logistic Regression Lemmatization Accuracy: 0.4\n",
            "Logistic Regression Word Stemming Accuracy: 0.6\n",
            "Logistic Regression Stop Word Accuracy: 1.0\n"
          ]
        }
      ],
      "source": [
        "# No Preprocessing\n",
        "# Create a Logistic Regression model\n",
        "lr_model = LogisticRegression()\n",
        "\n",
        "# Train the model\n",
        "lr_model.fit(x_train, y_train)\n",
        "# Make predictions\n",
        "lr_predictions = lr_model.predict(x_test)\n",
        "# Evaluate the model\n",
        "lr_accuracy = accuracy_score(y_test, lr_predictions)\n",
        "\n",
        "print(\"Logistic Regression Accuracy:\", lr_accuracy)\n",
        "\n",
        "# Lemmatization\n",
        "# Create a Logistic Regression model\n",
        "lr_lemma_model = LogisticRegression()\n",
        "\n",
        "# Train the model\n",
        "lr_lemma_model.fit(x_lemma_train, y_train)\n",
        "# Make predictions\n",
        "lr_lemma_predictions = lr_lemma_model.predict(x_lemma_test)\n",
        "# Evaluate the model\n",
        "lr_lemma_accuracy = accuracy_score(y_test, lr_lemma_predictions)\n",
        "\n",
        "print(\"Logistic Regression Lemmatization Accuracy:\", lr_lemma_accuracy)\n",
        "\n",
        "# Word Stemming\n",
        "# Create a Logistic Regression model\n",
        "lr_stem_model = LogisticRegression()\n",
        "\n",
        "# Train the model\n",
        "lr_stem_model.fit(x_stem_train, y_train)\n",
        "# Make predictions\n",
        "lr_stem_predictions = lr_stem_model.predict(x_stem_test)\n",
        "# Evaluate the model\n",
        "lr_stem_accuracy = accuracy_score(y_test, lr_stem_predictions)\n",
        "\n",
        "print(\"Logistic Regression Word Stemming Accuracy:\", lr_stem_accuracy)\n",
        "\n",
        "# Stop Word Removal\n",
        "# Create a Logistic Regression model\n",
        "lr_stopword_model = LogisticRegression()\n",
        "\n",
        "# Train the model\n",
        "lr_stopword_model.fit(x_stopword_train, y_train)\n",
        "# Make predictions\n",
        "lr_stopword_predictions = lr_stopword_model.predict(x_stopword_test)\n",
        "# Evaluate the model\n",
        "lr_stopword_accuracy = accuracy_score(y_test, lr_stopword_predictions)\n",
        "\n",
        "print(\"Logistic Regression Stop Word Accuracy:\", lr_stopword_accuracy)"
      ]
    },
    {
      "cell_type": "markdown",
      "metadata": {
        "id": "-7Y5iFyAsrgX"
      },
      "source": [
        "### Finetuning"
      ]
    },
    {
      "cell_type": "code",
      "execution_count": 31,
      "metadata": {
        "colab": {
          "base_uri": "https://localhost:8080/"
        },
        "id": "t2dET8Gass8o",
        "outputId": "9d11cbea-1116-4c8b-8e2f-fbb63b9434e5"
      },
      "outputs": [
        {
          "name": "stdout",
          "output_type": "stream",
          "text": [
            "Raw Logistic Regression Model Accuracy: 0.8\n",
            "Classification Report:               precision    recall  f1-score   support\n",
            "\n",
            "           0       0.00      0.00      0.00         2\n",
            "           1       0.80      1.00      0.89         8\n",
            "\n",
            "    accuracy                           0.80        10\n",
            "   macro avg       0.40      0.50      0.44        10\n",
            "weighted avg       0.64      0.80      0.71        10\n",
            "\n",
            "Lemmatized Logistic Regression Model Accuracy: 0.4\n",
            "Classification Report:               precision    recall  f1-score   support\n",
            "\n",
            "           0       0.17      0.50      0.25         2\n",
            "           1       0.75      0.38      0.50         8\n",
            "\n",
            "    accuracy                           0.40        10\n",
            "   macro avg       0.46      0.44      0.38        10\n",
            "weighted avg       0.63      0.40      0.45        10\n",
            "\n",
            "Stemmed Logistic Regression Model Accuracy: 0.6\n",
            "Classification Report:               precision    recall  f1-score   support\n",
            "\n",
            "           0       0.25      0.50      0.33         2\n",
            "           1       0.83      0.62      0.71         8\n",
            "\n",
            "    accuracy                           0.60        10\n",
            "   macro avg       0.54      0.56      0.52        10\n",
            "weighted avg       0.72      0.60      0.64        10\n",
            "\n",
            "Stop Word Removed Logistic Regression Model Accuracy: 0.9\n",
            "Classification Report:               precision    recall  f1-score   support\n",
            "\n",
            "           0       0.67      1.00      0.80         2\n",
            "           1       1.00      0.88      0.93         8\n",
            "\n",
            "    accuracy                           0.90        10\n",
            "   macro avg       0.83      0.94      0.87        10\n",
            "weighted avg       0.93      0.90      0.91        10\n",
            "\n"
          ]
        }
      ],
      "source": [
        "# Define the hyperparameters and their respective ranges to tune\n",
        "param_grid = {\n",
        "    'C': [0.01, 0.1, 1, 10, 100],\n",
        "    'max_iter': [100, 200, 500]\n",
        "}\n",
        "\n",
        "# No preprocessing\n",
        "# Initialize GridSearchCV\n",
        "grid_search = GridSearchCV(lr_model, param_grid, cv=5, scoring='accuracy', n_jobs=-1)\n",
        "# Fit the model with the best hyperparameters\n",
        "grid_search.fit(x_train, y_train)\n",
        "# Get the best model\n",
        "best_lr_model = grid_search.best_estimator_\n",
        "\n",
        "# Make predictions using the best model\n",
        "lr_predictions = best_lr_model.predict(x_test)\n",
        "\n",
        "# Evaluate the model\n",
        "best_lr_accuracy = accuracy_score(y_test, lr_predictions)\n",
        "lr_report = classification_report(y_test, lr_predictions, zero_division=0)\n",
        "\n",
        "# Display results\n",
        "print(\"Raw Logistic Regression Model Accuracy:\", best_lr_accuracy)\n",
        "print(\"Classification Report:\", lr_report)\n",
        "\n",
        "\n",
        "# Lemmatization\n",
        "grid_search = GridSearchCV(lr_lemma_model, param_grid, cv=5, scoring='accuracy', n_jobs=-1)\n",
        "grid_search.fit(x_lemma_train, y_train)\n",
        "best_lr_model_lemma = grid_search.best_estimator_\n",
        "lr_lemma_predictions = best_lr_model_lemma.predict(x_lemma_test)\n",
        "\n",
        "# Evaluate the model\n",
        "best_lr_lemma_accuracy = accuracy_score(y_test, lr_lemma_predictions)\n",
        "lr_lemma_report = classification_report(y_test, lr_lemma_predictions, zero_division=0)\n",
        "\n",
        "print(\"Lemmatized Logistic Regression Model Accuracy:\", best_lr_lemma_accuracy)\n",
        "print(\"Classification Report:\", lr_lemma_report)\n",
        "\n",
        "\n",
        "# Word Stemming\n",
        "grid_search = GridSearchCV(lr_stem_model, param_grid, cv=5, scoring='accuracy', n_jobs=-1)\n",
        "grid_search.fit(x_stem_train, y_train)\n",
        "best_lr_model_stem = grid_search.best_estimator_\n",
        "lr_stem_predictions = best_lr_model_stem.predict(x_stem_test)\n",
        "\n",
        "# Evaluate the model\n",
        "best_lr_stem_accuracy = accuracy_score(y_test, lr_stem_predictions)\n",
        "lr_stem_report = classification_report(y_test, lr_stem_predictions, zero_division=0)\n",
        "\n",
        "print(\"Stemmed Logistic Regression Model Accuracy:\", best_lr_stem_accuracy)\n",
        "print(\"Classification Report:\", lr_stem_report)\n",
        "\n",
        "\n",
        "\n",
        "# Stop Word Removal\n",
        "grid_search = GridSearchCV(lr_stopword_model, param_grid, cv=5, scoring='accuracy', n_jobs=-1)\n",
        "grid_search.fit(x_stopword_train, y_train)\n",
        "best_lr_model_stopword = grid_search.best_estimator_\n",
        "lr_stopword_predictions = best_lr_model_stopword.predict(x_stopword_test)\n",
        "\n",
        "# Evaluate the model\n",
        "best_lr_stopword_accuracy = accuracy_score(y_test, lr_stopword_predictions)\n",
        "lr_stopword_report = classification_report(y_test, lr_stopword_predictions, zero_division=0)\n",
        "\n",
        "print(\"Stop Word Removed Logistic Regression Model Accuracy:\", best_lr_stopword_accuracy)\n",
        "print(\"Classification Report:\", lr_stopword_report)"
      ]
    },
    {
      "cell_type": "markdown",
      "metadata": {
        "id": "7YJK3UBSpTy7"
      },
      "source": [
        "### Visualization"
      ]
    },
    {
      "cell_type": "code",
      "execution_count": 32,
      "metadata": {
        "colab": {
          "base_uri": "https://localhost:8080/",
          "height": 339
        },
        "id": "x139zgSFjCSZ",
        "outputId": "ce87d2df-99b1-4d43-eb56-a8178f1d47f9"
      },
      "outputs": [
        {
          "data": {
            "image/png": "[encoded data removed]",
            "text/plain": [
              "<Figure size 900x400 with 1 Axes>"
            ]
          },
          "metadata": {},
          "output_type": "display_data"
        }
      ],
      "source": [
        "Categories = ['No Preprocessing', 'Lemmatization', 'Word Stemming', 'Stop Word Removal']\n",
        "no_finetune = [lr_accuracy, lr_lemma_accuracy, lr_stem_accuracy, lr_stopword_accuracy]\n",
        "finetuning = [best_lr_accuracy, best_lr_lemma_accuracy, best_lr_stem_accuracy, best_lr_stopword_accuracy]\n",
        "\n",
        "bar_width = 0.35\n",
        "index = np.arange(len(Categories))\n",
        "\n",
        "plt.figure(figsize=(9, 4))\n",
        "plt.bar(index, no_finetune, bar_width, label='No Finetuning', color='limegreen')\n",
        "plt.bar(index + bar_width, finetuning, bar_width, label='Finetuning', color='g')\n",
        "\n",
        "plt.xlabel('Preprocessing Methods')\n",
        "plt.ylabel('Model Performance Accuracy')\n",
        "plt.title('Logistic Regression Accuracy Comparison (Preprocessing & Finetuning)')\n",
        "plt.xticks(index + bar_width / 2, Categories)\n",
        "plt.legend()\n",
        "plt.show()"
      ]
    },
    {
      "cell_type": "markdown",
      "metadata": {
        "id": "aAx8A6V3vEu6"
      },
      "source": [
        "#Model Selection\n",
        "\n",
        "---\n",
        "\n",
        "\n",
        "Once all models and their respective manipulations have been performed and evaluated, now it is time to select and implement the final model that will be used for the chrome extension."
      ]
    },
    {
      "cell_type": "code",
      "execution_count": 35,
      "metadata": {
        "id": "apxtcCjlZWJP"
      },
      "outputs": [],
      "source": [
        "x_train = x_stopword_train\n",
        "x_test = x_stopword_test"
      ]
    },
    {
      "cell_type": "code",
      "execution_count": 38,
      "metadata": {
        "id": "3B2c8U0oT2Au"
      },
      "outputs": [],
      "source": [
        "# Save the final content and model\n",
        "pickle.dump(vect, open('vector.pkl', 'wb'))\n",
        "pickle.dump(finetune_stopword_best, open('model.pkl', 'wb'))\n",
        "\n",
        "# Load the saved model\n",
        "vector_model = pickle.load(open('vector.pkl', 'rb'))\n",
        "model = pickle.load(open('model.pkl', 'rb'))"
      ]
    },
    {
      "cell_type": "code",
      "execution_count": 39,
      "metadata": {
        "id": "4O7G6m7mUW7U"
      },
      "outputs": [],
      "source": [
        "def EDTrigger(content):\n",
        "  # preprocessing of choice\n",
        "  content = removeStopWord(content)\n",
        "\n",
        "  # convert text to vector\n",
        "  input = [content]\n",
        "  vector = vector.transform(input)\n",
        "\n",
        "  # predict using final model\n",
        "  prediction = model.predict(vector)\n",
        "  return prediction"
      ]
    },
    {
      "cell_type": "code",
      "execution_count": null,
      "metadata": {},
      "outputs": [],
      "source": []
    }
  ],
  "metadata": {
    "colab": {
      "include_colab_link": true,
      "provenance": []
    },
    "kernelspec": {
      "display_name": "Python 3",
      "name": "python3"
    },
    "language_info": {
      "codemirror_mode": {
        "name": "ipython",
        "version": 3
      },
      "file_extension": ".py",
      "mimetype": "text/x-python",
      "name": "python",
      "nbconvert_exporter": "python",
      "pygments_lexer": "ipython3",
      "version": "3.11.4"
    }
  },
  "nbformat": 4,
  "nbformat_minor": 0
}
